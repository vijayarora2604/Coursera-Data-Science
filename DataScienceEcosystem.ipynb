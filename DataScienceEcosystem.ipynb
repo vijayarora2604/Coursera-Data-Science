{
 "cells": [
  {
   "cell_type": "markdown",
   "metadata": {},
   "source": [
    "<center>\n",
    "    <img src=\"https://cf-courses-data.s3.us.cloud-object-storage.appdomain.cloud/IBMDeveloperSkillsNetwork-DS0105EN-SkillsNetwork/labs/Module2/images/SN_web_lightmode.png\" width=\"300\" alt=\"cognitiveclass.ai logo\">\n",
    "</center>\n"
   ]
  },
  {
   "cell_type": "markdown",
   "metadata": {},
   "source": [
    "#### Add your code below following the instructions given in the course\n"
   ]
  },
  {
   "cell_type": "markdown",
   "metadata": {
    "tags": []
   },
   "source": [
    "# Data Science Tools and Ecosystem"
   ]
  },
  {
   "cell_type": "markdown",
   "metadata": {
    "tags": []
   },
   "source": [
    "## Introduction\n",
    "In this notebook, Data Science Tools and Ecosystem are summarized.\n",
    "\n",
    "## Data Science Languages\n",
    "\n",
    "Some of the popular languages that Data Scientists use are:\n",
    "\n",
    "**Python**: Widely used for its extensive libraries and frameworks, such as Pandas, NumPy, and Scikit-learn.\n",
    "**R**: Known for its statistical analysis and visualization capabilities, with packages like ggplot2 and dplyr.\n",
    "**SQL**: Essential for managing and querying structured data in databases.\n",
    "**Julia**: Gaining popularity for its performance and ease of use in numerical and scientific computing.\n",
    "**SAS**: Used for advanced analytics, business intelligence, and data management.\n",
    "\n",
    "These languages offer various tools and libraries to support different aspects of data science workflows.\n",
    "\n",
    "## Data Science Libraries\n",
    "\n",
    "Some of the commonly used libraries used by Data Scientists include:\n",
    "\n",
    "- **Python Libraries:**\n",
    "  - **Pandas**: Data manipulation and analysis.\n",
    "  - **NumPy**: Numerical computing and array operations.\n",
    "  - **Scikit-learn**: Machine learning and data mining.\n",
    "  - **Matplotlib**: Plotting and data visualization.\n",
    "  - **Seaborn**: Statistical data visualization.\n",
    "  - **TensorFlow**: Deep learning and neural networks.\n",
    "  - **Keras**: High-level neural networks API.\n",
    "\n",
    "- **R Libraries:**\n",
    "  - **ggplot2**: Data visualization and graphics.\n",
    "  - **dplyr**: Data manipulation and transformation.\n",
    "  - **tidyr**: Data tidying and reshaping.\n",
    "  - **caret**: Machine learning and model training.\n",
    "  - **shiny**: Interactive web applications.\n",
    "\n",
    "- **Other Libraries:**\n",
    "  - **Apache Spark**: Big data processing and analytics.\n",
    "  - **H2O.ai**: Scalable machine learning and AI.\n",
    "\n",
    "## Data Science Tools\n",
    "\n",
    "| Data Science Tools      |\n",
    "|-------------------------|\n",
    "| Jupyter Notebook        |\n",
    "| RStudio                 |\n",
    "| Google Colab            |\n",
    "\n",
    "### Below are a few examples of evaluating arithmetic expressions in Python\n",
    "\n",
    "In Python, arithmetic expressions can be evaluated using basic operators. Here are a few examples:\n",
    "\n",
    "- Addition: `3 + 5`\n",
    "- Subtraction: `10 - 2`\n",
    "- Multiplication: `4 * 7`\n",
    "- Division: `20 / 4`\n",
    "- Exponentiation: `2 ** 3`\n",
    "- Modulus: `10 % 3`\n",
    "\n",
    "# This is a simple arithmetic expression to multiply then add integers\n",
    "result = (3*4)+5\n",
    "\n",
    "\n",
    "# This will convert 200 minutes to hours by dividing by 60\n",
    "minutes = 200\n",
    "hours = 200 / 60\n",
    "\n",
    "**Objectives:**\n",
    "\n",
    "- List popular languages for Data Science\n",
    "- Demonstrate basic arithmetic operations in Python\n",
    "- Convert minutes to hours using Python\n",
    "- Introduce essential data science tools and libraries\n",
    "- Explain the functionality of Jupyter Notebook and its features\n",
    "\n",
    "## Author\n",
    "Vijay Arora\n",
    "\n",
    "\n",
    "\n",
    "\n",
    "\n"
   ]
  },
  {
   "cell_type": "code",
   "execution_count": null,
   "metadata": {},
   "outputs": [],
   "source": []
  }
 ],
 "metadata": {
  "kernelspec": {
   "display_name": "Python",
   "language": "python",
   "name": "conda-env-python-py"
  },
  "language_info": {
   "codemirror_mode": {
    "name": "ipython",
    "version": 3
   },
   "file_extension": ".py",
   "mimetype": "text/x-python",
   "name": "python",
   "nbconvert_exporter": "python",
   "pygments_lexer": "ipython3",
   "version": "3.7.12"
  }
 },
 "nbformat": 4,
 "nbformat_minor": 4
}
